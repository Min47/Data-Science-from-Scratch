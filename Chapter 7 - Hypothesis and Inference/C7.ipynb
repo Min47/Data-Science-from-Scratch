{
 "cells": [
  {
   "cell_type": "code",
   "execution_count": 3,
   "metadata": {},
   "outputs": [],
   "source": [
    "import math\n",
    "import matplotlib.pyplot as plt\n",
    "import numpy as np\n",
    "from typing import Tuple\n",
    "import random"
   ]
  },
  {
   "cell_type": "code",
   "execution_count": 11,
   "metadata": {},
   "outputs": [],
   "source": [
    "# Define the normal CDF function\n",
    "def normal_cdf(x: float, mu: float = 0, sigma: float = 1) -> float:\n",
    "    return (1 + math.erf((x - mu) / math.sqrt(2) / sigma)) / 2"
   ]
  },
  {
   "cell_type": "code",
   "execution_count": 21,
   "metadata": {},
   "outputs": [
    {
     "data": {
      "text/plain": [
       "0.5199388058383725"
      ]
     },
     "execution_count": 21,
     "metadata": {},
     "output_type": "execute_result"
    }
   ],
   "source": [
    "normal_cdf(0.05, 0, 1)"
   ]
  },
  {
   "cell_type": "code",
   "execution_count": 12,
   "metadata": {},
   "outputs": [],
   "source": [
    "# Inverse of the normal CDF:\n",
    "def inverse_normal_cdf(p: float, \n",
    "                       mu: float = 0, \n",
    "                       sigma: float = 1, \n",
    "                       tolerance: float = 0.00001) -> float:\n",
    "    \"\"\" Find approximate inverse using binary search \"\"\"\n",
    "\n",
    "    # If not standard, compute standard and rescale\n",
    "    if mu != 0 or sigma != 1:\n",
    "        return mu + sigma * inverse_normal_cdf(p, tolerance=tolerance)\n",
    "    \n",
    "    \n",
    "    low_z = -10.0   # normal_cdf(-10) is very close to 0\n",
    "    hi_z = 10.0     # normal_cdf(10) is very close to 1\n",
    "\n",
    "    while hi_z - low_z > tolerance:\n",
    "        mid_z = (low_z + hi_z) / 2          # Consider the midpoint\n",
    "        mid_p = normal_cdf(mid_z)           # and the CDF's value there\n",
    "        if mid_p < p:\n",
    "            low_z = mid_z                   # Midpoint too low, search above it\n",
    "        else:\n",
    "            hi_z = mid_z                    # Midpoint too high, search below it\n",
    "\n",
    "    return mid_z"
   ]
  },
  {
   "cell_type": "code",
   "execution_count": null,
   "metadata": {},
   "outputs": [
    {
     "name": "stdout",
     "output_type": "stream",
     "text": [
      "z-value for p=0.05 is approximately -1.64485\n"
     ]
    }
   ],
   "source": [
    "# Initialize parameters\n",
    "mu = 88           # Mean\n",
    "sigma = 19        # Standard deviation\n",
    "p = 0.113039         # Target probability\n",
    "tolerance = 0.00001\n",
    "\n",
    "low_z = -10.0     # Starting lower bound\n",
    "hi_z = 10.0       # Starting upper bound\n",
    "steps = []        # List to store the bounds and midpoint at each step\n",
    "\n",
    "# Perform binary search step by step and save details\n",
    "while hi_z - low_z > tolerance:\n",
    "    mid_z = (low_z + hi_z) / 2  # Midpoint\n",
    "    mid_p = normal_cdf(mid_z)   # CDF at midpoint\n",
    "    steps.append((low_z, mid_z, hi_z, mid_p))  # Record step details\n",
    "\n",
    "    # Update bounds based on the CDF value\n",
    "    if mid_p < p:  # Compare to target probability\n",
    "        low_z = mid_z\n",
    "    else:\n",
    "        hi_z = mid_z\n",
    "\n",
    "# Visualize each step in the binary search process\n",
    "for i, (low, mid, high, mid_p) in enumerate(steps):\n",
    "    # Create x values for visualization of the normal curve\n",
    "    x_values = np.linspace(-10, 10, 1000)\n",
    "    y_values = [normal_cdf(x) for x in x_values]\n",
    "\n",
    "    # plt.figure(figsize=(10, 6))\n",
    "    # plt.plot(x_values, y_values, label='CDF of Standard Normal', color='black')\n",
    "    # plt.axvline(x=low, color='blue', linestyle='--', label='Low Bound' if i == 0 else None)\n",
    "    # plt.axvline(x=mid, color='green', linestyle='-', label='Midpoint' if i == 0 else None)\n",
    "    # plt.axvline(x=high, color='red', linestyle='--', label='High Bound' if i == 0 else None)\n",
    "    # plt.title(f'Iteration {i + 1}: Low={low:.5f}, Mid={mid:.5f}, High={high:.5f}, CDF(Mid)={mid_p:.5f}')\n",
    "    # plt.xlabel('z-value')\n",
    "    # plt.ylabel('CDF Value')\n",
    "    # plt.legend()\n",
    "    # plt.grid()\n",
    "    # plt.show()\n",
    "\n",
    "# Print the final result\n",
    "print(f'z-value for p={p} is approximately {mid_z:.5f}')"
   ]
  },
  {
   "cell_type": "code",
   "execution_count": null,
   "metadata": {},
   "outputs": [],
   "source": []
  },
  {
   "cell_type": "code",
   "execution_count": 14,
   "metadata": {},
   "outputs": [
    {
     "name": "stdout",
     "output_type": "stream",
     "text": [
      "0.11310266552601672\n"
     ]
    }
   ],
   "source": [
    "# The normal cdf _is_ the probability the variable is below a threshold\n",
    "normal_probability_below = normal_cdf\n",
    "\n",
    "# It's above the threshold if it's not below the threshold\n",
    "def normal_probability_above(lo: float,\n",
    "    mu: float = 0,\n",
    "    sigma: float = 1) -> float:\n",
    "    \"\"\"The probability that an N(mu, sigma) is greater than lo.\"\"\"\n",
    "    return 1 - normal_cdf(lo, mu, sigma)\n",
    "\n",
    "# It's between if it's less than hi, but not less than lo\n",
    "def normal_probability_between(lo: float,\n",
    "    hi: float,\n",
    "    mu: float = 0,\n",
    "    sigma: float = 1) -> float:\n",
    "    \"\"\"The probability that an N(mu, sigma) is between lo and hi.\"\"\"\n",
    "    return normal_cdf(hi, mu, sigma) - normal_cdf(lo, mu, sigma)\n",
    "\n",
    "# It's outside if it's not between\n",
    "def normal_probability_outside(lo: float,\n",
    "    hi: float,\n",
    "    mu: float = 0,\n",
    "    sigma: float = 1) -> float:\n",
    "    \"\"\"The probability that an N(mu, sigma) is not between lo and hi.\"\"\"\n",
    "    return 1 - normal_probability_between(lo, hi, mu, sigma)\n",
    "\n",
    "print(normal_probability_between(469,531,550,15.7))"
   ]
  },
  {
   "cell_type": "code",
   "execution_count": 15,
   "metadata": {},
   "outputs": [
    {
     "name": "stdout",
     "output_type": "stream",
     "text": [
      "Lower bound: 469.03, Upper bound: 530.97\n"
     ]
    }
   ],
   "source": [
    "def normal_upper_bound(probability: float,\n",
    "    mu: float = 0,\n",
    "    sigma: float = 1) -> float:\n",
    "    \"\"\"Returns the z for which P(Z <= z) = probability\"\"\"\n",
    "    return inverse_normal_cdf(probability, mu, sigma)\n",
    "\n",
    "def normal_lower_bound(probability: float,\n",
    "    mu: float = 0,\n",
    "    sigma: float = 1) -> float:\n",
    "    \"\"\"Returns the z for which P(Z >= z) = probability\"\"\"\n",
    "    return inverse_normal_cdf(1 - probability, mu, sigma)\n",
    "\n",
    "def normal_two_sided_bounds(probability: float,\n",
    "    mu: float = 0,\n",
    "    sigma: float = 1) -> Tuple[float, float]:\n",
    "    \"\"\"\n",
    "    Returns the symmetric (about the mean) bounds\n",
    "    that contain the specified probability\n",
    "    \"\"\"\n",
    "    tail_probability = (1 - probability) / 2\n",
    "    # upper bound should have tail_probability above it\n",
    "    upper_bound = normal_lower_bound(tail_probability, mu, sigma)\n",
    "    # lower bound should have tail_probability below it\n",
    "    lower_bound = normal_upper_bound(tail_probability, mu, sigma)\n",
    "    return lower_bound, upper_bound\n",
    "\n",
    "lower_bound, upper_bound = normal_two_sided_bounds(0.95, 500, 15.8)\n",
    "print(f'Lower bound: {lower_bound:.2f}, Upper bound: {upper_bound:.2f}')"
   ]
  },
  {
   "cell_type": "code",
   "execution_count": 16,
   "metadata": {},
   "outputs": [
    {
     "data": {
      "text/plain": [
       "0.061889215070222825"
      ]
     },
     "execution_count": 16,
     "metadata": {},
     "output_type": "execute_result"
    }
   ],
   "source": [
    "def two_sided_p_value(x: float, mu: float = 0, sigma: float = 1) -> float:\n",
    "    \"\"\"\n",
    "    How likely are we to see a value at least as extreme as x\n",
    "    (in either direction) if our values are from an N(mu, sigma)?\n",
    "    \"\"\"\n",
    "    if x >= mu:\n",
    "        # If x is greater than the mean, calculate the upper tail\n",
    "        return 2 * normal_probability_above(x, mu, sigma)\n",
    "    else:\n",
    "        # If x is less than the mean, calculate the lower tail\n",
    "        return 2 * normal_probability_below(x, mu, sigma)\n",
    "\n",
    "two_sided_p_value(529.5, 500, 15.8)"
   ]
  },
  {
   "cell_type": "code",
   "execution_count": 31,
   "metadata": {},
   "outputs": [],
   "source": [
    "extreme_value_count = 0\n",
    "for _ in range(1000):\n",
    "    num_heads = sum(1 if random.random() < 0.5 else 0 for _ in range(1000)) # Simulate 1000 flips\n",
    "    if num_heads >= 530 or num_heads <= 470:\n",
    "        extreme_value_count += 1\n",
    "\n",
    "# # Check if simulation matches the theoretical p-value\n",
    "# assert 59 < extreme_value_count < 65, f\"{extreme_value_count}\""
   ]
  },
  {
   "cell_type": "code",
   "execution_count": 17,
   "metadata": {},
   "outputs": [
    {
     "data": {
      "text/plain": [
       "(0.2, 0.01264911064067352)"
      ]
     },
     "execution_count": 17,
     "metadata": {},
     "output_type": "execute_result"
    }
   ],
   "source": [
    "def estimated_parameters(N: int, n: int) -> Tuple[float, float]:\n",
    "    p = n / N\n",
    "    sigma = math.sqrt(p * (1 - p) / N)\n",
    "    return p, sigma\n",
    "\n",
    "estimated_parameters(1000, 200)"
   ]
  },
  {
   "cell_type": "code",
   "execution_count": 5,
   "metadata": {},
   "outputs": [],
   "source": [
    "def a_b_test_statistic(N_A: int, n_A: int, N_B: int, n_B: int) -> float:\n",
    "    p_A, sigma_A = estimated_parameters(N_A, n_A)\n",
    "    p_B, sigma_B = estimated_parameters(N_B, n_B)\n",
    "    return (p_B - p_A) / math.sqrt(sigma_A ** 2 + sigma_B ** 2)"
   ]
  },
  {
   "cell_type": "code",
   "execution_count": 6,
   "metadata": {},
   "outputs": [
    {
     "data": {
      "text/plain": [
       "-1.1403464899034472"
      ]
     },
     "execution_count": 6,
     "metadata": {},
     "output_type": "execute_result"
    }
   ],
   "source": [
    "z = a_b_test_statistic(1000, 200, 1000, 180)\n",
    "\n",
    "z"
   ]
  },
  {
   "cell_type": "code",
   "execution_count": 20,
   "metadata": {},
   "outputs": [
    {
     "data": {
      "text/plain": [
       "0.254141976542236"
      ]
     },
     "execution_count": 20,
     "metadata": {},
     "output_type": "execute_result"
    }
   ],
   "source": [
    "two_sided_p_value(z)"
   ]
  },
  {
   "cell_type": "code",
   "execution_count": 19,
   "metadata": {},
   "outputs": [
    {
     "data": {
      "text/plain": [
       "0.003189699706216853"
      ]
     },
     "execution_count": 19,
     "metadata": {},
     "output_type": "execute_result"
    }
   ],
   "source": [
    "two_sided_p_value(a_b_test_statistic(1000, 200, 1000, 150))"
   ]
  }
 ],
 "metadata": {
  "kernelspec": {
   "display_name": "venv",
   "language": "python",
   "name": "python3"
  },
  "language_info": {
   "codemirror_mode": {
    "name": "ipython",
    "version": 3
   },
   "file_extension": ".py",
   "mimetype": "text/x-python",
   "name": "python",
   "nbconvert_exporter": "python",
   "pygments_lexer": "ipython3",
   "version": "3.12.3"
  }
 },
 "nbformat": 4,
 "nbformat_minor": 2
}
