{
 "cells": [
  {
   "cell_type": "markdown",
   "metadata": {},
   "source": [
    "# Part 1 - Vectors"
   ]
  },
  {
   "cell_type": "markdown",
   "metadata": {
    "vscode": {
     "languageId": "plaintext"
    }
   },
   "source": [
    "For example, if you have the heights, weights, and ages of a large number of people, you can treat your data as three-dimensional vectors [height, weight, age]. If you’re teaching a class with four exams, you can treat student grades as fourdimensional vectors [exam1, exam2, exam3, exam4]."
   ]
  },
  {
   "cell_type": "markdown",
   "metadata": {
    "vscode": {
     "languageId": "plaintext"
    }
   },
   "source": [
    "The simplest from-scratch approach is to represent vectors as lists of numbers. A list of three numbers corresponds to a vector in three-dimensional space, and vice versa."
   ]
  },
  {
   "cell_type": "code",
   "execution_count": 1,
   "metadata": {},
   "outputs": [],
   "source": [
    "# We’ll accomplish this with a type alias that says a Vector is just a list of floats:\n",
    "\n",
    "from typing import List\n",
    "\n",
    "Vector = List[float]\n",
    "\n",
    "height_weight_age = [70, # inches, \n",
    "                     170, # pounds,\n",
    "                     40] # years\n",
    "\n",
    "grades = [95, # exam1\n",
    "          80, # exam2\n",
    "          75, # exam3\n",
    "          62] # exam4"
   ]
  },
  {
   "cell_type": "markdown",
   "metadata": {},
   "source": [
    "Arithmetic on vectors:\n",
    "\n",
    "- Adding two vectors is done by adding their corresponding elements. For example, [1, 2] + [2, 1] = [1 + 2, 2 + 1] = [3, 3]."
   ]
  },
  {
   "cell_type": "code",
   "execution_count": 17,
   "metadata": {},
   "outputs": [
    {
     "data": {
      "image/png": "[encoded data removed]",
      "text/plain": [
       "<Figure size 640x480 with 1 Axes>"
      ]
     },
     "metadata": {},
     "output_type": "display_data"
    }
   ],
   "source": [
    "# Figure to show the addition of two vectors\n",
    "\n",
    "from matplotlib import pyplot as plt\n",
    "\n",
    "v = [1, 2]\n",
    "w = [2, 1]\n",
    "\n",
    "# The arrow will start at the origin (0, 0) and end at the point (1, 2), which is the vector [1, 2]\n",
    "# Then, we’ll draw another arrow that starts at the end of the first one and ends at the point (2, 1), which is the vector [2, 1]\n",
    "# We will also draw a dotted line that starts at the origin and ends at the point (3, 3), which is the vector [1+2, 2+1]\n",
    "plt.figure()\n",
    "plt.arrow(0, 0, v[0], v[1], width=0.01, color='r', head_width=0.1)\n",
    "plt.arrow(v[0], v[1], w[0], w[1], width=0.01, color='b', head_width=0.1)\n",
    "plt.arrow(0, 0, v[0]+w[0], v[1]+w[1], width=0.01, color='g', head_width=0, linestyle='dotted')\n",
    "plt.xlim(-1, 4)\n",
    "plt.ylim(-0.5, 3.5)\n",
    "plt.show()"
   ]
  },
  {
   "cell_type": "code",
   "execution_count": 22,
   "metadata": {},
   "outputs": [],
   "source": [
    "# We can implement vector addition as follows:\n",
    "\n",
    "def add(v: Vector, w: Vector) -> Vector:\n",
    "    \"\"\"Adds corresponding elements\"\"\"\n",
    "    assert len(v) == len(w), \"vectors must be the same length\"\n",
    "    \n",
    "    return [v_i + w_i for v_i, w_i in zip(v, w)]\n",
    "\n",
    "assert add([1, 2, 3], [4, 5, 6]) == [5, 7, 9]"
   ]
  },
  {
   "cell_type": "code",
   "execution_count": 23,
   "metadata": {},
   "outputs": [],
   "source": [
    "# Similarly, we can implement vector subtraction:\n",
    "\n",
    "def subtract(v: Vector, w: Vector) -> Vector:\n",
    "    \"\"\"Subtracts corresponding elements\"\"\"\n",
    "    assert len(v) == len(w), \"vectors must be the same length\"\n",
    "    \n",
    "    return [v_i - w_i for v_i, w_i in zip(v, w)]\n",
    "\n",
    "assert subtract([5, 7, 9], [4, 5, 6]) == [1, 2, 3]"
   ]
  },
  {
   "cell_type": "code",
   "execution_count": 24,
   "metadata": {},
   "outputs": [],
   "source": [
    "# We can also componentwise sum a list of vectors:\n",
    "\n",
    "def vector_sum(vectors: List[Vector]) -> Vector:\n",
    "    \"\"\"Sums all corresponding elements\"\"\"\n",
    "    # Check that vectors is not empty\n",
    "    assert vectors, \"no vectors provided!\"\n",
    "    \n",
    "    # Check the vectors are all the same size\n",
    "    num_elements = len(vectors[0])\n",
    "    assert all(len(v) == num_elements for v in vectors), \"different sizes!\"\n",
    "    \n",
    "    # The i-th element of the result is the sum of every vector[i]\n",
    "    return [sum(vector[i] for vector in vectors)\n",
    "            for i in range(num_elements)]\n",
    "\n",
    "assert vector_sum([[1, 2], [3, 4], [5, 6], [7, 8]]) == [16, 20]"
   ]
  },
  {
   "cell_type": "code",
   "execution_count": 25,
   "metadata": {},
   "outputs": [],
   "source": [
    "# We can also multiply a vector by a scalar, which we do by multiplying each element of the vector by that number:\n",
    "\n",
    "def scalar_multiply(c: float, v: Vector) -> Vector:\n",
    "    \"\"\"Multiplies every element by c\"\"\"\n",
    "    return [c * v_i for v_i in v]\n",
    "\n",
    "assert scalar_multiply(2, [1, 2, 3]) == [2, 4, 6]"
   ]
  },
  {
   "cell_type": "code",
   "execution_count": 28,
   "metadata": {},
   "outputs": [],
   "source": [
    "# This allows us to compute the componentwise means of a list of (same-sized) vectors:\n",
    "\n",
    "def vector_mean(vectors: List[Vector]) -> Vector:\n",
    "    \"\"\"Computes the element-wise average\"\"\"\n",
    "    n = len(vectors)\n",
    "    return scalar_multiply(1/n, vector_sum(vectors))\n",
    "\n",
    "assert vector_mean([[1, 2], [3, 4], [5, 6]]) == [3, 4]"
   ]
  },
  {
   "cell_type": "code",
   "execution_count": 65,
   "metadata": {},
   "outputs": [
    {
     "data": {
      "image/png": "[encoded data removed]",
      "text/plain": [
       "<Figure size 640x480 with 1 Axes>"
      ]
     },
     "metadata": {},
     "output_type": "display_data"
    }
   ],
   "source": [
    "# The dot product of two vectors is the sum of their componentwise products:\n",
    "\n",
    "def dot(v: Vector, w: Vector) -> float:\n",
    "    \"\"\"Computes v_1 * w_1 + ... + v_n * w_n\"\"\"\n",
    "    assert len(v) == len(w), \"vectors must be same length\"\n",
    "    \n",
    "    return sum(v_i * w_i for v_i, w_i in zip(v, w))\n",
    "\n",
    "assert dot([1, 2, 3], [4, 5, 6]) == 32 # 1 * 4 + 2 * 5 + 3 * 6\n",
    "\n",
    "# Draw the dot product of two vectors\n",
    "# Also draw the projection of v onto w\n",
    "\n",
    "v = [2, 1] # red\n",
    "w = [0.5, 1] # blue\n",
    "\n",
    "plt.figure()\n",
    "plt.arrow(0, 0, v[0], v[1], width=0.01, color='r', head_width=0.05)\n",
    "plt.arrow(0, 0, w[0], w[1], width=0.01, color='b', head_width=0.05)\n",
    "plt.arrow(0, 0, \n",
    "          dot(v, w) * w[0], \n",
    "          dot(v, w) * w[1], \n",
    "          width=0.01, color='g', head_width=0.05, linestyle='dotted')\n",
    "\n",
    "# Draw a line from the end of v to the end of the projection\n",
    "plt.arrow(v[0], \n",
    "          v[1], \n",
    "          dot(v, w) * w[0] - v[0], \n",
    "          dot(v, w) * w[1] - v[1], \n",
    "          width=0.001, color='black', head_width=0, linestyle='dotted')\n",
    "\n",
    "plt.xlim(-0.5, 2.5)\n",
    "plt.ylim(-0.5, 2.5)\n",
    "plt.show()"
   ]
  },
  {
   "cell_type": "code",
   "execution_count": 66,
   "metadata": {},
   "outputs": [],
   "source": [
    "# Using the dot product, it’s easy to compute a vector’s sum of squares:\n",
    "\n",
    "def sum_of_squares(v: Vector) -> float:\n",
    "    \"\"\"Returns v_1 * v_1 + ... + v_n * v_n\"\"\"\n",
    "    return dot(v, v)\n",
    "\n",
    "assert sum_of_squares([1, 2, 3]) == 14 # 1 * 1 + 2 * 2 + 3 * 3"
   ]
  },
  {
   "cell_type": "code",
   "execution_count": 67,
   "metadata": {},
   "outputs": [],
   "source": [
    "# Which we can use to compute its magnitude (or length):\n",
    "\n",
    "import math\n",
    "\n",
    "def magnitude(v: Vector) -> float:\n",
    "    return math.sqrt(sum_of_squares(v)) # math.sqrt is square root function\n",
    "\n",
    "assert magnitude([3, 4]) == 5"
   ]
  },
  {
   "cell_type": "code",
   "execution_count": null,
   "metadata": {},
   "outputs": [],
   "source": [
    "# We now have all the pieces we need to compute the distance between two vectors:\n",
    "\n",
    "# In code:\n",
    "def squared_distance(v: Vector, w: Vector) -> float:\n",
    "    \"\"\"Computes (v_1 - w_1) ** 2 + ... + (v_n - w_n) ** 2\"\"\"\n",
    "    return sum_of_squares(subtract(v, w))\n",
    "\n",
    "def distance(v: Vector, w: Vector) -> float:\n",
    "    \"\"\"Computes the distance between v and w\"\"\"\n",
    "    return math.sqrt(squared_distance(v, w))\n",
    "\n",
    "# This is possibly clearer if we write it as (the equivalent):\n",
    "def distance(v: Vector, w: Vector) -> float:\n",
    "    return magnitude(subtract(v, w))"
   ]
  },
  {
   "cell_type": "markdown",
   "metadata": {},
   "source": [
    "Using lists as vectors is great for exposition but terrible for performance. In production code, you would want to use the NumPy library, which includes a high-performance array class with all sorts of arithmetic operations included."
   ]
  },
  {
   "cell_type": "markdown",
   "metadata": {},
   "source": [
    "# Part 2 - Matrices"
   ]
  },
  {
   "cell_type": "markdown",
   "metadata": {},
   "source": [
    "Matrix is a two-dimensional collection of numbers. We will represent matrices as lists of lists, with each inner list having the same size and representing a row of the matrix."
   ]
  },
  {
   "cell_type": "code",
   "execution_count": 68,
   "metadata": {},
   "outputs": [],
   "source": [
    "# Another type alisa for matrix\n",
    "Matrix = List[List[float]]\n",
    "\n",
    "A = [[1, 2, 3], # A has 2 rows and 3 columns\n",
    "     [4, 5, 6]]\n",
    "\n",
    "B = [[1, 2], # B has 3 rows and 2 columns\n",
    "     [3, 4],\n",
    "     [5, 6]]"
   ]
  },
  {
   "cell_type": "code",
   "execution_count": 69,
   "metadata": {},
   "outputs": [],
   "source": [
    "from typing import Tuple\n",
    "\n",
    "def shape(A: Matrix) -> Tuple[int, int]:\n",
    "    \"\"\"Returns (# of rows of A, # of columns of A)\"\"\"\n",
    "    num_rows = len(A)\n",
    "    num_cols = len(A[0]) if A else 0 # number of elements in first row\n",
    "    return num_rows, num_cols\n",
    "\n",
    "assert shape([[1, 2, 3], [4, 5, 6]]) == (2, 3) # 2 rows, 3 columns"
   ]
  },
  {
   "cell_type": "code",
   "execution_count": 72,
   "metadata": {},
   "outputs": [],
   "source": [
    "def get_row(A: Matrix, i: int) -> Vector:\n",
    "    \"\"\"Returns the i-th row of A (as a Vector)\"\"\"\n",
    "    return A[i] # A[i] is already the ith row\n",
    "\n",
    "def get_column(A: Matrix, j: int) -> Vector:\n",
    "    \"\"\"Returns the j-th column of A (as a Vector)\"\"\"\n",
    "    return [A_i[j] # jth element of row A_i\n",
    "            for A_i in A] # for each row A_i\n",
    "\n",
    "assert get_row([[1, 2, 3], [4, 5, 6]], 0) == [1, 2, 3]\n",
    "assert get_column([[1, 2, 3], [4, 5, 6]], 1) == [2, 5]"
   ]
  },
  {
   "cell_type": "code",
   "execution_count": null,
   "metadata": {},
   "outputs": [],
   "source": [
    "# We’ll also want to be able to create a matrix given its shape and a function for generating its elements:\n",
    "\n",
    "from typing import Callable\n",
    "\n",
    "def make_matrix(num_rows: int, \n",
    "                num_cols: int, \n",
    "                entry_fn: Callable[[int, int], float]) -> Matrix:\n",
    "    \"\"\"Returns a (num_rows x num_cols) matrix whose (i, j)-th entry is entry_fn(i, j)\"\"\"\n",
    "    return [[entry_fn(i, j) # given i, create a list\n",
    "             for j in range(num_cols)] # [entry_fn(i, 0), ...]\n",
    "             for i in range(num_rows)] # create one list for each i\n",
    "\n",
    "# For example, we can create a 5 x 5 identity matrix:\n",
    "def identity_matrix(n: int) -> Matrix:\n",
    "    \"\"\"Returns the n x n identity matrix\"\"\"\n",
    "    return make_matrix(n, n, lambda i, j: 1 if i == j else 0)\n",
    "\n",
    "assert identity_matrix(5) == [[1, 0, 0, 0, 0],\n",
    "                              [0, 1, 0, 0, 0],\n",
    "                              [0, 0, 1, 0, 0],\n",
    "                              [0, 0, 0, 1, 0],\n",
    "                              [0, 0, 0, 0, 1]]"
   ]
  },
  {
   "cell_type": "markdown",
   "metadata": {},
   "source": [
    "Matrix can also represent binary relationships. For example, if you have a network of people, you can use a matrix where the entry [i][j] is 1 if person i knows person j, and 0 otherwise."
   ]
  },
  {
   "cell_type": "code",
   "execution_count": 74,
   "metadata": {},
   "outputs": [],
   "source": [
    "# Recall that before we had:\n",
    "\n",
    "friendships = [(0, 1), (0, 2), (1, 2), (1, 3), (2, 3), (3, 4),\n",
    "               (4, 5), (5, 6), (5, 7), (6, 8), (7, 8), (8, 9)]\n",
    "\n",
    "# We can represent this as a matrix where the element (i, j) is 1 if person i is friends with person j; otherwise, it is 0:\n",
    "# user 0  1  2  3  4  5  6  7  8  9\n",
    "# \n",
    "friend_matrix = [[0, 1, 1, 0, 0, 0, 0, 0, 0, 0], # user 0\n",
    "                 [1, 0, 1, 1, 0, 0, 0, 0, 0, 0], # user 1\n",
    "                 [1, 1, 0, 1, 0, 0, 0, 0, 0, 0], # user 2\n",
    "                 [0, 1, 1, 0, 1, 0, 0, 0, 0, 0], # user 3\n",
    "                 [0, 0, 0, 1, 0, 1, 0, 0, 0, 0], # user 4\n",
    "                 [0, 0, 0, 0, 1, 0, 1, 1, 0, 0], # user 5\n",
    "                 [0, 0, 0, 0, 0, 1, 0, 0, 1, 0], # user 6\n",
    "                 [0, 0, 0, 0, 0, 1, 0, 0, 1, 0], # user 7\n",
    "                 [0, 0, 0, 0, 0, 0, 1, 1, 0, 1], # user 8\n",
    "                 [0, 0, 0, 0, 0, 0, 0, 0, 1, 0]] # user 9"
   ]
  },
  {
   "cell_type": "code",
   "execution_count": 75,
   "metadata": {},
   "outputs": [],
   "source": [
    "# If there are very few connections, this is a much more inefficient representation, since you end up having to store a lot of zeros. \n",
    "# However, with the matrix representation it is much quicker to check whether two nodes are connected.\n",
    "# You just have to do a matrix lookup instead of (potentially) inspecting every edge:\n",
    "\n",
    "assert friend_matrix[0][2] == 1, \"0 and 2 are friends\"\n",
    "assert friend_matrix[0][8] == 0, \"0 and 8 are not friends\""
   ]
  },
  {
   "cell_type": "code",
   "execution_count": 76,
   "metadata": {},
   "outputs": [],
   "source": [
    "# Similarly, to find a node's connections, you just have to look up the corresponding row or column:\n",
    "\n",
    "# only need to look at one row\n",
    "friends_of_five = [i\n",
    "                   for i, is_friend in enumerate(friend_matrix[5]) # user 5's friends \n",
    "                   if is_friend]\n",
    "\n",
    "assert friends_of_five == [4, 6, 7], \"user 5 has friends 4, 6, 7\""
   ]
  },
  {
   "cell_type": "markdown",
   "metadata": {},
   "source": [
    "With a small graph you could just add a list of connections to each node object to speed up this process; but for a large, evolving graph that would probably be too expensive and difficult to maintain. This issue will be addressed later."
   ]
  },
  {
   "cell_type": "code",
   "execution_count": null,
   "metadata": {},
   "outputs": [],
   "source": []
  }
 ],
 "metadata": {
  "kernelspec": {
   "display_name": "venv",
   "language": "python",
   "name": "python3"
  },
  "language_info": {
   "codemirror_mode": {
    "name": "ipython",
    "version": 3
   },
   "file_extension": ".py",
   "mimetype": "text/x-python",
   "name": "python",
   "nbconvert_exporter": "python",
   "pygments_lexer": "ipython3",
   "version": "3.12.3"
  }
 },
 "nbformat": 4,
 "nbformat_minor": 2
}
