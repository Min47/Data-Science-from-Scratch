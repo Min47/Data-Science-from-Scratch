{
 "cells": [
  {
   "cell_type": "markdown",
   "metadata": {},
   "source": [
    "# Part 1 - Finding Key Connectors"
   ]
  },
  {
   "cell_type": "markdown",
   "metadata": {},
   "source": [
    "Given a list of users and their friendships, find the users who have the most friends in common"
   ]
  },
  {
   "cell_type": "code",
   "execution_count": 1,
   "metadata": {},
   "outputs": [],
   "source": [
    "users = [\n",
    "    { \"id\": 0, \"name\": \"Hero\" },\n",
    "    { \"id\": 1, \"name\": \"Dunn\" },\n",
    "    { \"id\": 2, \"name\": \"Sue\" },\n",
    "    { \"id\": 3, \"name\": \"Chi\" },\n",
    "    { \"id\": 4, \"name\": \"Thor\" },\n",
    "    { \"id\": 5, \"name\": \"Clive\" },\n",
    "    { \"id\": 6, \"name\": \"Hicks\" },\n",
    "    { \"id\": 7, \"name\": \"Devin\" },\n",
    "    { \"id\": 8, \"name\": \"Kate\" },\n",
    "    { \"id\": 9, \"name\": \"Klein\" }\n",
    "]\n",
    "\n",
    "friendship_pairs = [(0, 1), (0, 2), (1, 2), (1, 3), (2, 3), (3, 4), (4, 5), (5, 6), (5, 7), (6, 8), (7, 8), (8, 9)]"
   ]
  },
  {
   "cell_type": "markdown",
   "metadata": {
    "slideshow": {
     "slide_type": "slide"
    }
   },
   "source": [
    "Having friendships represented as a list of pairs is not the easiest way to work with\n",
    "them. To find all the friendships for user 1, you have to iterate over every pair looking\n",
    "for pairs containing 1. If you had a lot of pairs, this would take a long time.\n",
    "Instead, let’s create a dict where the keys are user ids and the values are lists of friend\n",
    "ids. (Looking things up in a dict is very fast.)"
   ]
  },
  {
   "cell_type": "code",
   "execution_count": 2,
   "metadata": {},
   "outputs": [
    {
     "name": "stdout",
     "output_type": "stream",
     "text": [
      "{0: [1, 2], 1: [0, 2, 3], 2: [0, 1, 3], 3: [1, 2, 4], 4: [3, 5], 5: [4, 6, 7], 6: [5, 8], 7: [5, 8], 8: [6, 7, 9], 9: [8]}\n"
     ]
    }
   ],
   "source": [
    "# Initialize the dict with an empty list for each user id:\n",
    "friendships = {user[\"id\"]: [] for user in users}\n",
    "\n",
    "# And then populate it with the friendships data:\n",
    "for i, j in friendship_pairs:\n",
    "    friendships[i].append(j) # Add j as a friend of user i\n",
    "    friendships[j].append(i) # Add i as a friend of user j\n",
    "\n",
    "print(friendships)"
   ]
  },
  {
   "cell_type": "markdown",
   "metadata": {},
   "source": [
    "Now we can ask questions of our graph, like “what’s the average number of connections?”:"
   ]
  },
  {
   "cell_type": "code",
   "execution_count": 3,
   "metadata": {},
   "outputs": [
    {
     "name": "stdout",
     "output_type": "stream",
     "text": [
      "2.4\n"
     ]
    }
   ],
   "source": [
    "def number_of_friends(user):\n",
    "    user_id = user[\"id\"]\n",
    "    friend_ids = friendships[user_id]\n",
    "    return len(friend_ids)\n",
    "\n",
    "total_connections = sum(number_of_friends(user) for user in users) # 24\n",
    "\n",
    "num_users = len(users) # length of the users list # 10\n",
    "avg_connections = total_connections / num_users \n",
    "\n",
    "print(avg_connections)"
   ]
  },
  {
   "cell_type": "markdown",
   "metadata": {},
   "source": [
    "Find the most connected people"
   ]
  },
  {
   "cell_type": "code",
   "execution_count": 4,
   "metadata": {},
   "outputs": [
    {
     "name": "stdout",
     "output_type": "stream",
     "text": [
      "[(1, 3), (2, 3), (3, 3), (5, 3), (8, 3), (0, 2), (4, 2), (6, 2), (7, 2), (9, 1)]\n"
     ]
    }
   ],
   "source": [
    "# Create a list (user_id, number_of_friends)\n",
    "num_friends_by_id = [(user[\"id\"], number_of_friends(user)) for user in users]\n",
    "\n",
    "num_friends_by_id.sort( # Sort the list\n",
    "    key=lambda id_and_friends: id_and_friends[1], # by num_friends\n",
    "    reverse=True # largest to smallest\n",
    ")\n",
    "\n",
    "print(num_friends_by_id) # Each pair is (user_id, num_friends)"
   ]
  },
  {
   "cell_type": "markdown",
   "metadata": {},
   "source": [
    "# Part 2 - \"Data Scientists You May Know\" suggester"
   ]
  },
  {
   "cell_type": "markdown",
   "metadata": {},
   "source": [
    "Create the function to iterate over friends and collect friends of friends."
   ]
  },
  {
   "cell_type": "code",
   "execution_count": 5,
   "metadata": {},
   "outputs": [
    {
     "name": "stdout",
     "output_type": "stream",
     "text": [
      "[0, 2, 3, 0, 1, 3]\n"
     ]
    }
   ],
   "source": [
    "def foaf_ids_bad(user):\n",
    "    \"\"\"foaf is short for 'friend of a friend' \"\"\"\n",
    "    return [foaf_id\n",
    "            for friend_id in friendships[user[\"id\"]]\n",
    "            for foaf_id in friendships[friend_id]]\n",
    "\n",
    "print(foaf_ids_bad(users[0]))"
   ]
  },
  {
   "cell_type": "markdown",
   "metadata": {},
   "source": [
    "Knowing that people are friends of friends in multiple ways seems like interesting\n",
    "information, so maybe instead we should produce a count of mutual friends. And we\n",
    "should probably exclude people already known to the user:"
   ]
  },
  {
   "cell_type": "code",
   "execution_count": 6,
   "metadata": {},
   "outputs": [
    {
     "name": "stdout",
     "output_type": "stream",
     "text": [
      "Counter({0: 2, 5: 1})\n"
     ]
    }
   ],
   "source": [
    "from collections import Counter\n",
    "\n",
    "def friends_of_friends(user):\n",
    "    user_id = user[\"id\"]\n",
    "    return Counter(\n",
    "        foaf_id\n",
    "        for friend_id in friendships[user_id] # For each of my friends\n",
    "        for foaf_id in friendships[friend_id] # Find their friends\n",
    "        if foaf_id != user_id # Who aren't me\n",
    "        and foaf_id not in friendships[user_id] # And aren't my friends\n",
    "    )\n",
    "\n",
    "print(friends_of_friends(users[3]))\n",
    "\n",
    "# This correctly tells Chi (id 3) that she has two mutual friends with Hero (id 0) but only one mutual friend with Clive (id 5)."
   ]
  },
  {
   "cell_type": "markdown",
   "metadata": {},
   "source": [
    "As a data scientist, you know that you also might enjoy meeting users with similar\n",
    "interests. (This is a good example of the “substantive expertise” aspect of data science.)\n",
    "After asking around, you manage to get your hands on this data, as a list of\n",
    "pairs (user_id, interest):"
   ]
  },
  {
   "cell_type": "code",
   "execution_count": 7,
   "metadata": {},
   "outputs": [
    {
     "name": "stdout",
     "output_type": "stream",
     "text": [
      "[0, 5, 9]\n"
     ]
    }
   ],
   "source": [
    "interests = [\n",
    "    (0, \"Hadoop\"), (0, \"Big Data\"), (0, \"HBase\"), (0, \"Java\"),\n",
    "    (0, \"Spark\"), (0, \"Storm\"), (0, \"Cassandra\"),\n",
    "    (1, \"NoSQL\"), (1, \"MongoDB\"), (1, \"Cassandra\"), (1, \"HBase\"),\n",
    "    (1, \"Postgres\"), (2, \"Python\"), (2, \"scikit-learn\"), (2, \"scipy\"),\n",
    "    (2, \"numpy\"), (2, \"statsmodels\"), (2, \"pandas\"), (3, \"R\"), (3, \"Python\"),\n",
    "    (3, \"statistics\"), (3, \"regression\"), (3, \"probability\"),\n",
    "    (4, \"machine learning\"), (4, \"regression\"), (4, \"decision trees\"),\n",
    "    (4, \"libsvm\"), (5, \"Python\"), (5, \"R\"), (5, \"Java\"), (5, \"C++\"),\n",
    "    (5, \"Haskell\"), (5, \"programming languages\"), (6, \"statistics\"),\n",
    "    (6, \"probability\"), (6, \"mathematics\"), (6, \"theory\"),\n",
    "    (7, \"machine learning\"), (7, \"scikit-learn\"), (7, \"Mahout\"),\n",
    "    (7, \"neural networks\"), (8, \"neural networks\"), (8, \"deep learning\"),\n",
    "    (8, \"Big Data\"), (8, \"artificial intelligence\"), (9, \"Hadoop\"),\n",
    "    (9, \"Java\"), (9, \"MapReduce\"), (9, \"Big Data\")\n",
    "]\n",
    "\n",
    "# For example, Hero (id 0) has no friends in common with Klein (id 9), but they share interests in Java and big data.\n",
    "# It is easy to build a function that finds users with a certain interest:\n",
    "\n",
    "def data_scientists_who_like(target_interest):\n",
    "    return [user_id\n",
    "            for user_id, user_interest in interests\n",
    "            if user_interest == target_interest]\n",
    "\n",
    "print(data_scientists_who_like(\"Java\"))"
   ]
  },
  {
   "cell_type": "markdown",
   "metadata": {},
   "source": [
    "This works, but it has to examine the whole list of interests for every search. If we\n",
    "have a lot of users and interests (or if we just want to do a lot of searches), we’re probably\n",
    "better off building an index from interests to users:"
   ]
  },
  {
   "cell_type": "code",
   "execution_count": 8,
   "metadata": {},
   "outputs": [],
   "source": [
    "from collections import defaultdict\n",
    "\n",
    "# Keys are interests, values are lists of user_ids with that interest\n",
    "user_ids_by_interest = defaultdict(list)\n",
    "\n",
    "for user_id, interest in interests:\n",
    "    user_ids_by_interest[interest].append(user_id) # We get: {'Java': [0, 5, 9], 'Big Data': [0, 8, 9], ...}\n",
    "\n",
    "# And another from users to interests\n",
    "# Keys are user_ids, values are lists of interests for that user_id\n",
    "interests_by_user_id = defaultdict(list)\n",
    "\n",
    "for user_id, interest in interests:\n",
    "    interests_by_user_id[user_id].append(interest) # We get: {0: ['Hadoop', 'Big Data', 'HBase', 'Java', 'Spark', 'Storm', 'Cassandra'], ...}"
   ]
  },
  {
   "cell_type": "markdown",
   "metadata": {},
   "source": [
    "Now it's easy to find who has the most interests in common with a given user.\n",
    "- iterate over the user's interests\n",
    "- for each interest, iterate over the users with that interest\n",
    "- keep count of how many times we see each user"
   ]
  },
  {
   "cell_type": "code",
   "execution_count": 9,
   "metadata": {},
   "outputs": [
    {
     "name": "stdout",
     "output_type": "stream",
     "text": [
      "Counter({9: 3, 1: 2, 8: 1, 5: 1})\n"
     ]
    }
   ],
   "source": [
    "def most_common_interests_with(user):\n",
    "    return Counter(\n",
    "        interested_user_id\n",
    "        for interest in interests_by_user_id[user[\"id\"]]\n",
    "        for interested_user_id in user_ids_by_interest[interest]\n",
    "        if interested_user_id != user[\"id\"]\n",
    "    )\n",
    "\n",
    "print(most_common_interests_with(users[0])) # User 9 has 3 common interests with user 0"
   ]
  },
  {
   "cell_type": "markdown",
   "metadata": {},
   "source": [
    "# Part 3 - Salaries and Experience"
   ]
  },
  {
   "cell_type": "markdown",
   "metadata": {},
   "source": [
    "Anonymous dataset containing each user’s salary (in dollars) and tenure as a data scientist (in years):"
   ]
  },
  {
   "cell_type": "code",
   "execution_count": 10,
   "metadata": {},
   "outputs": [],
   "source": [
    "salaries_and_tenures = [ (83000, 8.7), (88000, 8.1),\n",
    "                         (48000, 0.7), (76000, 6),\n",
    "                         (69000, 6.5), (76000, 7.5),\n",
    "                         (60000, 2.5), (83000, 10),\n",
    "                         (48000, 1.9), (63000, 4.2) ]"
   ]
  },
  {
   "cell_type": "markdown",
   "metadata": {},
   "source": [
    "The natural first step is to plot the data (which we’ll see how to do in Chapter 3). You can see the results in Figure 1-3."
   ]
  },
  {
   "cell_type": "code",
   "execution_count": 11,
   "metadata": {},
   "outputs": [
    {
     "data": {
      "image/png": "[encoded data removed]",
      "text/plain": [
       "<Figure size 640x480 with 1 Axes>"
      ]
     },
     "metadata": {},
     "output_type": "display_data"
    }
   ],
   "source": [
    "# Plot the data\n",
    "import matplotlib.pyplot as plt\n",
    "\n",
    "salaries = [salary for salary, _ in salaries_and_tenures]\n",
    "tenures = [tenure for _, tenure in salaries_and_tenures]\n",
    "\n",
    "plt.scatter(tenures, salaries)\n",
    "plt.xlabel(\"Years Experience\")\n",
    "plt.ylabel(\"Salary\")\n",
    "plt.show()"
   ]
  },
  {
   "cell_type": "markdown",
   "metadata": {},
   "source": [
    "It seems clear that people with more experience earn more. How can you turn this into a fun fact? You could calculate the average salary for each tenure:"
   ]
  },
  {
   "cell_type": "code",
   "execution_count": 12,
   "metadata": {},
   "outputs": [
    {
     "name": "stdout",
     "output_type": "stream",
     "text": [
      "{0.7: [48000], 1.9: [48000], 2.5: [60000], 4.2: [63000], 6: [76000], 6.5: [69000], 7.5: [76000], 8.1: [88000], 8.7: [83000], 10: [83000]}\n"
     ]
    }
   ],
   "source": [
    "# Keys are years, values are lists of the salaries for each tenure\n",
    "salary_by_tenure = defaultdict(list)\n",
    "\n",
    "for salary, tenure in salaries_and_tenures:\n",
    "    salary_by_tenure[tenure].append(salary)\n",
    "\n",
    "# Sort the keys\n",
    "sorted_salary_by_tenure = dict(sorted(salary_by_tenure.items()))\n",
    "\n",
    "print(sorted_salary_by_tenure)"
   ]
  },
  {
   "cell_type": "code",
   "execution_count": 13,
   "metadata": {},
   "outputs": [
    {
     "name": "stdout",
     "output_type": "stream",
     "text": [
      "{0.7: 48000.0, 1.9: 48000.0, 2.5: 60000.0, 4.2: 63000.0, 6: 76000.0, 6.5: 69000.0, 7.5: 76000.0, 8.1: 88000.0, 8.7: 83000.0, 10: 83000.0}\n"
     ]
    }
   ],
   "source": [
    "# Keys are years, each value is average salary for that tenure\n",
    "average_salary_by_tenure = {\n",
    "    tenure: sum(salaries) / len(salaries)\n",
    "    for tenure, salaries in salary_by_tenure.items()\n",
    "}\n",
    "\n",
    "# Sort the average_salary_by_tenure dict\n",
    "sorted_average_salary_by_tenure = dict(sorted(average_salary_by_tenure.items()))\n",
    "\n",
    "print(sorted_average_salary_by_tenure)"
   ]
  },
  {
   "cell_type": "markdown",
   "metadata": {},
   "source": [
    "This turns out to be not particularly useful, as none of the users have the same tenure, which means we're just reporting the individual users' salaries. Instead, we could group the tenures into ranges and calculate the average salary for each range:"
   ]
  },
  {
   "cell_type": "code",
   "execution_count": 14,
   "metadata": {},
   "outputs": [
    {
     "name": "stdout",
     "output_type": "stream",
     "text": [
      "defaultdict(<class 'list'>, {'more than five': [83000, 88000, 76000, 69000, 76000, 83000], 'less than two': [48000, 48000], 'between two and five': [60000, 63000]})\n"
     ]
    }
   ],
   "source": [
    "def tenure_bucket(tenure):\n",
    "    if tenure < 2:\n",
    "        return \"less than two\"\n",
    "    elif tenure < 5:\n",
    "        return \"between two and five\"\n",
    "    else:\n",
    "        return \"more than five\"\n",
    "    \n",
    "# Keys are tenure buckets, values are lists of salaries for that bucket\n",
    "salary_by_tenure_bucket = defaultdict(list)\n",
    "\n",
    "for salary, tenure in salaries_and_tenures:\n",
    "    bucket = tenure_bucket(tenure)\n",
    "    salary_by_tenure_bucket[bucket].append(salary)\n",
    "\n",
    "print(salary_by_tenure_bucket)\n"
   ]
  },
  {
   "cell_type": "code",
   "execution_count": 15,
   "metadata": {},
   "outputs": [
    {
     "name": "stdout",
     "output_type": "stream",
     "text": [
      "{'more than five': 79166.66666666667, 'less than two': 48000.0, 'between two and five': 61500.0}\n"
     ]
    }
   ],
   "source": [
    "# Keys are tenure buckets, values are average salary for that bucket\n",
    "average_salary_by_bucket = {\n",
    "    tenure_bucket: sum(salaries) / len(salaries)\n",
    "    for tenure_bucket, salaries in salary_by_tenure_bucket.items()\n",
    "}\n",
    "\n",
    "print(average_salary_by_bucket)"
   ]
  },
  {
   "cell_type": "markdown",
   "metadata": {},
   "source": [
    "# Part 4 - Paid Accounts"
   ]
  },
  {
   "cell_type": "markdown",
   "metadata": {},
   "source": [
    "Which users pay for accounts and which don’t? You notice that there seems to be a correspondence between years of experience and paid accounts:"
   ]
  },
  {
   "cell_type": "code",
   "execution_count": 16,
   "metadata": {},
   "outputs": [],
   "source": [
    "yoe_and_accounts = [ (0.7, \"paid\"), (1.9, \"unpaid\"),\n",
    "                     (2.5, \"paid\"), (4.2, \"unpaid\"),\n",
    "                     (6.0, \"unpaid\"), (6.5, \"unpaid\"),\n",
    "                     (7.5, \"unpaid\"), (8.1, \"unpaid\"),\n",
    "                     (8.7, \"paid\"), (10, \"paid\") ]\n",
    "\n",
    "# Users with very few and very many years of experience tend to pay; users with average amounts of experience don’t."
   ]
  },
  {
   "cell_type": "markdown",
   "metadata": {},
   "source": [
    "Accordingly, if you wanted to create a model — though this is definitely not enough data to base a model on — you might try to predict “paid” for users with very few and very many years of experience, and “unpaid” for users with middling amounts of experience:"
   ]
  },
  {
   "cell_type": "code",
   "execution_count": 17,
   "metadata": {},
   "outputs": [],
   "source": [
    "def predict_paid_or_unpaid(years_experience):\n",
    "    if years_experience < 3.0:\n",
    "        return \"paid\"\n",
    "    elif years_experience < 8.5:\n",
    "        return \"unpaid\"\n",
    "    else:\n",
    "        return \"paid\""
   ]
  },
  {
   "cell_type": "markdown",
   "metadata": {},
   "source": [
    "Of course, we totally eyeballed the cutoffs.\n",
    "With more data (and more mathematics), we could build a model predicting the likelihood that a user would pay based on his years of experience."
   ]
  },
  {
   "cell_type": "markdown",
   "metadata": {},
   "source": [
    "# Part 5 - Topics of Interest"
   ]
  },
  {
   "cell_type": "markdown",
   "metadata": {},
   "source": [
    "What topics users are most interested in?"
   ]
  },
  {
   "cell_type": "code",
   "execution_count": 19,
   "metadata": {},
   "outputs": [
    {
     "name": "stdout",
     "output_type": "stream",
     "text": [
      "[(0, 'Hadoop'), (0, 'Big Data'), (0, 'HBase'), (0, 'Java'), (0, 'Spark'), (0, 'Storm'), (0, 'Cassandra'), (1, 'NoSQL'), (1, 'MongoDB'), (1, 'Cassandra'), (1, 'HBase'), (1, 'Postgres'), (2, 'Python'), (2, 'scikit-learn'), (2, 'scipy'), (2, 'numpy'), (2, 'statsmodels'), (2, 'pandas'), (3, 'R'), (3, 'Python'), (3, 'statistics'), (3, 'regression'), (3, 'probability'), (4, 'machine learning'), (4, 'regression'), (4, 'decision trees'), (4, 'libsvm'), (5, 'Python'), (5, 'R'), (5, 'Java'), (5, 'C++'), (5, 'Haskell'), (5, 'programming languages'), (6, 'statistics'), (6, 'probability'), (6, 'mathematics'), (6, 'theory'), (7, 'machine learning'), (7, 'scikit-learn'), (7, 'Mahout'), (7, 'neural networks'), (8, 'neural networks'), (8, 'deep learning'), (8, 'Big Data'), (8, 'artificial intelligence'), (9, 'Hadoop'), (9, 'Java'), (9, 'MapReduce'), (9, 'Big Data')]\n"
     ]
    }
   ],
   "source": [
    "print(interests)"
   ]
  },
  {
   "cell_type": "code",
   "execution_count": 21,
   "metadata": {},
   "outputs": [
    {
     "name": "stdout",
     "output_type": "stream",
     "text": [
      "Counter({'big': 3, 'data': 3, 'java': 3, 'python': 3, 'learning': 3, 'hadoop': 2, 'hbase': 2, 'cassandra': 2, 'scikit-learn': 2, 'r': 2, 'statistics': 2, 'regression': 2, 'probability': 2, 'machine': 2, 'neural': 2, 'networks': 2, 'spark': 1, 'storm': 1, 'nosql': 1, 'mongodb': 1, 'postgres': 1, 'scipy': 1, 'numpy': 1, 'statsmodels': 1, 'pandas': 1, 'decision': 1, 'trees': 1, 'libsvm': 1, 'c++': 1, 'haskell': 1, 'programming': 1, 'languages': 1, 'mathematics': 1, 'theory': 1, 'mahout': 1, 'deep': 1, 'artificial': 1, 'intelligence': 1, 'mapreduce': 1})\n"
     ]
    }
   ],
   "source": [
    "words_and_counts = Counter(word\n",
    "                            for user, interest in interests\n",
    "                            for word in interest.lower().split())\n",
    "\n",
    "print(words_and_counts)"
   ]
  },
  {
   "cell_type": "code",
   "execution_count": 22,
   "metadata": {},
   "outputs": [
    {
     "name": "stdout",
     "output_type": "stream",
     "text": [
      "big 3\n",
      "data 3\n",
      "java 3\n",
      "python 3\n",
      "learning 3\n",
      "hadoop 2\n",
      "hbase 2\n",
      "cassandra 2\n",
      "scikit-learn 2\n",
      "r 2\n",
      "statistics 2\n",
      "regression 2\n",
      "probability 2\n",
      "machine 2\n",
      "neural 2\n",
      "networks 2\n"
     ]
    }
   ],
   "source": [
    "for word, count in words_and_counts.most_common():\n",
    "    if count > 1:\n",
    "        print(word, count)"
   ]
  },
  {
   "cell_type": "code",
   "execution_count": null,
   "metadata": {},
   "outputs": [],
   "source": []
  }
 ],
 "metadata": {
  "kernelspec": {
   "display_name": "venv",
   "language": "python",
   "name": "python3"
  },
  "language_info": {
   "codemirror_mode": {
    "name": "ipython",
    "version": 3
   },
   "file_extension": ".py",
   "mimetype": "text/x-python",
   "name": "python",
   "nbconvert_exporter": "python",
   "pygments_lexer": "ipython3",
   "version": "3.12.3"
  }
 },
 "nbformat": 4,
 "nbformat_minor": 2
}
